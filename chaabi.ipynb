{
 "cells": [
  {
   "cell_type": "code",
   "execution_count": 1,
   "metadata": {},
   "outputs": [],
   "source": [
    "import pandas as pd\n",
    "\n",
    "# Load the dataset\n",
    "df = pd.read_csv('/home/braj/Desktop/chaabi/bigBasketProducts.csv').apply(lambda x: x.astype(str).str.lower())"
   ]
  },
  {
   "cell_type": "code",
   "execution_count": 3,
   "metadata": {},
   "outputs": [
    {
     "name": "stderr",
     "output_type": "stream",
     "text": [
      "/home/braj/miniconda3/envs/chaabi/lib/python3.11/site-packages/tqdm/auto.py:21: TqdmWarning: IProgress not found. Please update jupyter and ipywidgets. See https://ipywidgets.readthedocs.io/en/stable/user_install.html\n",
      "  from .autonotebook import tqdm as notebook_tqdm\n"
     ]
    }
   ],
   "source": [
    "from qdrant_client import models, QdrantClient\n",
    "from sentence_transformers import SentenceTransformer"
   ]
  },
  {
   "cell_type": "code",
   "execution_count": 4,
   "metadata": {},
   "outputs": [],
   "source": [
    "encoder = SentenceTransformer(\"all-MiniLM-L6-v2\")"
   ]
  },
  {
   "cell_type": "code",
   "execution_count": 5,
   "metadata": {},
   "outputs": [],
   "source": [
    "qdrant = QdrantClient(\":memory:\")"
   ]
  },
  {
   "cell_type": "code",
   "execution_count": 6,
   "metadata": {},
   "outputs": [
    {
     "data": {
      "text/plain": [
       "True"
      ]
     },
     "execution_count": 6,
     "metadata": {},
     "output_type": "execute_result"
    }
   ],
   "source": [
    "qdrant.recreate_collection(\n",
    "    collection_name=\"chaabi\",\n",
    "    vectors_config=models.VectorParams(\n",
    "        size=encoder.get_sentence_embedding_dimension(),  # Vector size is defined by used model\n",
    "        distance=models.Distance.COSINE,\n",
    "    ),\n",
    ")"
   ]
  },
  {
   "cell_type": "code",
   "execution_count": 7,
   "metadata": {},
   "outputs": [],
   "source": [
    "qdrant.upload_records(\n",
    "    collection_name=\"chaabi\",\n",
    "    records=[\n",
    "        models.Record(\n",
    "            id=idx, vector=encoder.encode(doc[\"description\"]).tolist(), payload=doc\n",
    "        )\n",
    "        for idx, doc in enumerate(df.to_dict(orient='records'))\n",
    "    ],\n",
    ")"
   ]
  },
  {
   "cell_type": "code",
   "execution_count": 15,
   "metadata": {},
   "outputs": [
    {
     "name": "stderr",
     "output_type": "stream",
     "text": [
      "Some weights of the model checkpoint at deepset/bert-base-cased-squad2 were not used when initializing BertForQuestionAnswering: ['bert.pooler.dense.bias', 'bert.pooler.dense.weight']\n",
      "- This IS expected if you are initializing BertForQuestionAnswering from the checkpoint of a model trained on another task or with another architecture (e.g. initializing a BertForSequenceClassification model from a BertForPreTraining model).\n",
      "- This IS NOT expected if you are initializing BertForQuestionAnswering from the checkpoint of a model that you expect to be exactly identical (initializing a BertForSequenceClassification model from a BertForSequenceClassification model).\n"
     ]
    }
   ],
   "source": [
    "from transformers import AutoTokenizer, BertForQuestionAnswering\n",
    "import torch\n",
    "\n",
    "# Load the language model\n",
    "tokenizer = AutoTokenizer.from_pretrained(\"deepset/bert-base-cased-squad2\")\n",
    "model = BertForQuestionAnswering.from_pretrained(\"deepset/bert-base-cased-squad2\")\n",
    "# Move the model to GPU\n",
    "device = \"cuda\" if torch.cuda.is_available() else \"cpu\"\n",
    "model.to(device)\n",
    "\n",
    "# Assuming 'index' is your Qdrant Index\n",
    "def get_contextual_answers(user_query):\n",
    "    # Query Vector Database for Relevant Products\n",
    "    hits = qdrant.search(\n",
    "    collection_name=\"chaabi\",\n",
    "    query_vector=encoder.encode(user_query).tolist(),\n",
    "    limit=3,\n",
    ")\n",
    "    results=[]\n",
    "    for response in hits:\n",
    "        results.append(response.payload)\n",
    "\n",
    "    # Contextual Answer Generation\n",
    "    contextual_answers = []\n",
    "    for result in results:\n",
    "        question, text = user_query, result['description']\n",
    "        inputs = tokenizer(question, text, return_tensors=\"pt\").to(device)\n",
    "        with torch.no_grad():\n",
    "            outputs = model(**inputs)\n",
    "        answer_start_index = outputs.start_logits.argmax()\n",
    "        answer_end_index = outputs.end_logits.argmax()\n",
    "        predict_answer_tokens = inputs.input_ids[0, answer_start_index : answer_end_index + 1]\n",
    "        answer = tokenizer.decode(predict_answer_tokens, skip_special_tokens=True)\n",
    "        \n",
    "        contextual_answers.append({\"product\": result['product'], 'description':text, \"response\": answer})\n",
    "\n",
    "    # Return Contextual Answers\n",
    "    return contextual_answers\n"
   ]
  },
  {
   "cell_type": "code",
   "execution_count": 17,
   "metadata": {},
   "outputs": [
    {
     "name": "stdout",
     "output_type": "stream",
     "text": [
      "product: advansed men hair cream - anti hairfall\n",
      "database search response: styleã‚â strong and nourished hairã‚â every day, with parachute advancedã‚â after showerã‚â anti hairfall cream, enriched withã‚â almond oilã‚â that helps reduceã‚â hair-fallã‚â by 95%.ã‚â it contains coconut milk proteins to give you healthy and lively hair, while providing the perfect balance of nourishment and style with its unique, naturalã‚â cocolipidtmã‚â formula that gives hair concentratedã‚â coconut nourishmentã‚â right from the roots.ã‚â for best results, use daily. the products range from the classic after-shower hair cream to anti-dandruff with lemon & neem and anti-hairfall with almond.  for beauty tips, tricks & more visitâ https://bigbasket.blog/\n",
      "LLMresponse: strong and nourished hairã ‚ â every day, with parachute advancedã ‚ â after showerã ‚ â anti hairfall cream, enriched withã ‚ â almond oilã ‚ â that helps reduceã ‚ â hair - fallã ‚ â by 95 %. ã ‚ â it contains coconut milk proteins to give you healthy and lively hair\n",
      "======================================================================\n",
      "product: advansed men hair cream - classic\n",
      "database search response: parachute advansedã‚â after showerã‚â classicã‚â hair styling cream for menã‚â provides aã‚â perfect balance ofã‚â nourishmentã‚â and style with its unique, naturalã‚â cocolipidã‚â formula that gives hair concentrated coconut nourishment right from the root, while the aqua moisturizers in it keep the hairã‚â non-sticky, soft and smooth.ã‚â it is enriched with coconut milk proteins, mineralã‚â oilã‚â andã‚â coconut oil.ã‚â the coconut milk proteinsã‚â moisturizeã‚â your hair, giving it a healthy look. for better results, use daily. the products range from the classic after-shower hair cream to anti-dandruff with lemon & neem and anti-hairfall with almond.  for beauty tips, tricks & more visitâ https://bigbasket.blog/\n",
      "LLMresponse: \n",
      "======================================================================\n",
      "product: natural damage repair hair kit - ka+ hair system\n",
      "database search response: our natural damage repair hair care kit, enriched with keratin and moroccan argan oil, hydrates and conditions your hair, repairing damage and improving hair texture, while adding shine. the conditioner is an essential part of our ka+ routine for dry and damaged hair.\n",
      "LLMresponse: Tell me about hair care products our natural damage repair hair care kit\n",
      "======================================================================\n"
     ]
    }
   ],
   "source": [
    "# Example usage\n",
    "user_query = \"Tell me about hair care products\"\n",
    "answers = get_contextual_answers(user_query)\n",
    "for ans in answers:\n",
    "    print('product:', ans['product'])\n",
    "    print('database search response:', ans['description'])\n",
    "    print('LLMresponse:', ans['response'])\n",
    "    print('='*70)"
   ]
  },
  {
   "cell_type": "code",
   "execution_count": 19,
   "metadata": {},
   "outputs": [
    {
     "name": "stdout",
     "output_type": "stream",
     "text": [
      "product: sausage - chicken\n",
      "database search response: processed pre cooked\n",
      "LLMresponse: Tell me about cooking products processed pre cooked\n",
      "======================================================================\n",
      "product: extra virgin olive oil\n",
      "database search response: suitable to cook indian meals due to its neutral taste and maintains the good quality even at high temperatures while cooking.\n",
      "LLMresponse: \n",
      "======================================================================\n",
      "product: chicken - sausage (skinless)\n",
      "database search response: chicken meat 60%, ice & water 24%, refined palm oil 4.3%, cereal binder 3.8%, isolated soya protein 2.5%, iodized salt, modified starch (e1442), mixed spices, milk powder, phosphates (e450, e451, e452), flavor enhancer (e621), anti-oxidant (e300), curing salt (e250), permitted colour (e616g), nutrition\n",
      "LLMresponse: Tell me about cooking products chicken meat\n",
      "======================================================================\n"
     ]
    }
   ],
   "source": [
    "# Example usage\n",
    "user_query = \"Tell me about cooking products\"\n",
    "answers = get_contextual_answers(user_query)\n",
    "for ans in answers:\n",
    "    print('product:', ans['product'])\n",
    "    print('database search response:', ans['description'])\n",
    "    print('LLMresponse:', ans['response'])\n",
    "    print('='*70)"
   ]
  }
 ],
 "metadata": {
  "kernelspec": {
   "display_name": "myenv",
   "language": "python",
   "name": "python3"
  },
  "language_info": {
   "codemirror_mode": {
    "name": "ipython",
    "version": 3
   },
   "file_extension": ".py",
   "mimetype": "text/x-python",
   "name": "python",
   "nbconvert_exporter": "python",
   "pygments_lexer": "ipython3",
   "version": "3.11.5"
  }
 },
 "nbformat": 4,
 "nbformat_minor": 2
}
